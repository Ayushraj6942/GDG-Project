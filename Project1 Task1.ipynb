{
 "cells": [
  {
   "cell_type": "code",
   "execution_count": null,
   "id": "8bce1c49-f450-4db4-b8da-d46f769a3cc0",
   "metadata": {},
   "outputs": [],
   "source": [
    "pip install selenium requests beautifulsoup4 scrapy pandas yfinance\n"
   ]
  },
  {
   "cell_type": "code",
   "execution_count": 6,
   "id": "4118dda3-f3ab-43e0-8063-72b6d9998e8c",
   "metadata": {},
   "outputs": [
    {
     "name": "stdout",
     "output_type": "stream",
     "text": [
      "Scraping data for: RELIANCE\n",
      "Scraping data for: TCS\n",
      "Scraping data for: INFY\n",
      "Scraping data for: HDFCBANK\n",
      "Scraping data for: HINDUNILVR\n",
      "Scraping data for: ICICIBANK\n",
      "Scraping data for: KOTAKBANK\n",
      "Scraping data for: ITC\n",
      "Scraping data for: LT\n",
      "Scraping data for: SBIN\n",
      "Scraping data for: BAJFINANCE\n",
      "Scraping data for: BHARTIARTL\n",
      "Scraping data for: ASIANPAINT\n",
      "Scraping data for: AXISBANK\n",
      "Scraping data for: MARUTI\n",
      "Scraping data for: SUNPHARMA\n",
      "Scraping data for: ULTRACEMCO\n",
      "Scraping data for: WIPRO\n",
      "Scraping data for: HCLTECH\n",
      "Scraping data for: POWERGRID\n",
      "        Symbol    PE   EPS 52 Week High/Low Market Cap   LTP\n",
      "0     RELIANCE  None  None             None       None  None\n",
      "1          TCS  None  None             None       None  None\n",
      "2         INFY  None  None             None       None  None\n",
      "3     HDFCBANK  None  None             None       None  None\n",
      "4   HINDUNILVR  None  None             None       None  None\n",
      "5    ICICIBANK  None  None             None       None  None\n",
      "6    KOTAKBANK  None  None             None       None  None\n",
      "7          ITC  None  None             None       None  None\n",
      "8           LT  None  None             None       None  None\n",
      "9         SBIN  None  None             None       None  None\n",
      "10  BAJFINANCE  None  None             None       None  None\n",
      "11  BHARTIARTL  None  None             None       None  None\n",
      "12  ASIANPAINT  None  None             None       None  None\n",
      "13    AXISBANK  None  None             None       None  None\n",
      "14      MARUTI  None  None             None       None  None\n",
      "15   SUNPHARMA  None  None             None       None  None\n",
      "16  ULTRACEMCO  None  None             None       None  None\n",
      "17       WIPRO  None  None             None       None  None\n",
      "18     HCLTECH  None  None             None       None  None\n",
      "19   POWERGRID  None  None             None       None  None\n"
     ]
    }
   ],
   "source": [
    "import requests\n",
    "from bs4 import BeautifulSoup\n",
    "import pandas as pd\n",
    "\n",
    "# Function to scrape stock data from Screener.in\n",
    "def scrape_stock_data(symbol):\n",
    "    try:\n",
    "        url = f\"https://www.screener.in/company/{symbol}/\"\n",
    "        response = requests.get(url)\n",
    "        response.raise_for_status()  # Raise an exception for HTTP errors\n",
    "        soup = BeautifulSoup(response.content, \"html.parser\")\n",
    "\n",
    "        # Extracting data\n",
    "        try:\n",
    "            pe_tag = soup.find(\"span\", string=\"P/E\")\n",
    "            eps_tag = soup.find(\"span\", string=\"EPS\")\n",
    "            high_low_tag = soup.find(\"span\", string=\"52 Week High/Low\")\n",
    "            market_cap_tag = soup.find(\"span\", string=\"Market Cap\")\n",
    "            ltp_tag = soup.find(\"span\", string=\"Current Price\")\n",
    "\n",
    "            data = {\n",
    "                \"Symbol\": symbol,\n",
    "                \"PE\": pe_tag.find_next(\"span\").text.strip() if pe_tag else None,\n",
    "                \"EPS\": eps_tag.find_next(\"span\").text.strip() if eps_tag else None,\n",
    "                \"52 Week High/Low\": high_low_tag.find_next(\"span\").text.strip() if high_low_tag else None,\n",
    "                \"Market Cap\": market_cap_tag.find_next(\"span\").text.strip() if market_cap_tag else None,\n",
    "                \"LTP\": ltp_tag.find_next(\"span\").text.strip() if ltp_tag else None\n",
    "            }\n",
    "        except AttributeError:\n",
    "            data = {\n",
    "                \"Symbol\": symbol,\n",
    "                \"PE\": None,\n",
    "                \"EPS\": None,\n",
    "                \"52 Week High/Low\": None,\n",
    "                \"Market Cap\": None,\n",
    "                \"LTP\": None\n",
    "            }\n",
    "        \n",
    "        return data\n",
    "    \n",
    "    except requests.RequestException as e:\n",
    "        print(f\"Error while loading data for {symbol}: {e}\")\n",
    "        return {\"Symbol\": symbol, \"PE\": None, \"EPS\": None, \"52 Week High/Low\": None, \"Market Cap\": None, \"LTP\": None}\n",
    "\n",
    "# Function to scrape data for multiple stocks\n",
    "def scrape_nifty50_screener():\n",
    "    nifty50_symbols = [\n",
    "        \"RELIANCE\", \"TCS\", \"INFY\", \"HDFCBANK\", \"HINDUNILVR\", \n",
    "        \"ICICIBANK\", \"KOTAKBANK\", \"ITC\", \"LT\", \"SBIN\", \n",
    "        \"BAJFINANCE\", \"BHARTIARTL\", \"ASIANPAINT\", \"AXISBANK\", \n",
    "        \"MARUTI\", \"SUNPHARMA\", \"ULTRACEMCO\", \"WIPRO\", \n",
    "        \"HCLTECH\", \"POWERGRID\"\n",
    "    ]\n",
    "    \n",
    "    all_stock_data = []\n",
    "    for symbol in nifty50_symbols:\n",
    "        print(f\"Scraping data for: {symbol}\")\n",
    "        stock_data = scrape_stock_data(symbol)\n",
    "        all_stock_data.append(stock_data)\n",
    "    \n",
    "    # Create a DataFrame\n",
    "    df = pd.DataFrame(all_stock_data)\n",
    "    return df\n",
    "\n",
    "# Execute and display the DataFrame\n",
    "nifty50_df = scrape_nifty50_screener()\n",
    "print(nifty50_df)\n"
   ]
  },
  {
   "cell_type": "code",
   "execution_count": 7,
   "id": "56e7d57a-bfd1-4743-989f-1774292b19fc",
   "metadata": {},
   "outputs": [
    {
     "name": "stdout",
     "output_type": "stream",
     "text": [
      "Scraping data for: RELIANCE\n",
      "Scraping data for: TCS\n",
      "Scraping data for: INFY\n",
      "Scraping data for: HDFCBANK\n",
      "Scraping data for: HINDUNILVR\n",
      "Scraping data for: ICICIBANK\n",
      "Scraping data for: KOTAKBANK\n",
      "Scraping data for: ITC\n",
      "Scraping data for: LT\n",
      "Scraping data for: SBIN\n",
      "Scraping data for: BAJFINANCE\n",
      "Scraping data for: BHARTIARTL\n",
      "Scraping data for: ASIANPAINT\n",
      "Scraping data for: AXISBANK\n",
      "Scraping data for: MARUTI\n",
      "Scraping data for: SUNPHARMA\n",
      "Scraping data for: ULTRACEMCO\n",
      "Scraping data for: WIPRO\n",
      "Scraping data for: HCLTECH\n",
      "Scraping data for: POWERGRID\n",
      "        Symbol    PE   EPS 52 Week High/Low Market Cap   LTP\n",
      "0     RELIANCE  None  None             None       None  None\n",
      "1          TCS  None  None             None       None  None\n",
      "2         INFY  None  None             None       None  None\n",
      "3     HDFCBANK  None  None             None       None  None\n",
      "4   HINDUNILVR  None  None             None       None  None\n",
      "5    ICICIBANK  None  None             None       None  None\n",
      "6    KOTAKBANK  None  None             None       None  None\n",
      "7          ITC  None  None             None       None  None\n",
      "8           LT  None  None             None       None  None\n",
      "9         SBIN  None  None             None       None  None\n",
      "10  BAJFINANCE  None  None             None       None  None\n",
      "11  BHARTIARTL  None  None             None       None  None\n",
      "12  ASIANPAINT  None  None             None       None  None\n",
      "13    AXISBANK  None  None             None       None  None\n",
      "14      MARUTI  None  None             None       None  None\n",
      "15   SUNPHARMA  None  None             None       None  None\n",
      "16  ULTRACEMCO  None  None             None       None  None\n",
      "17       WIPRO  None  None             None       None  None\n",
      "18     HCLTECH  None  None             None       None  None\n",
      "19   POWERGRID  None  None             None       None  None\n"
     ]
    }
   ],
   "source": [
    "from selenium import webdriver\n",
    "from selenium.webdriver.chrome.service import Service\n",
    "from selenium.webdriver.common.by import By\n",
    "from selenium.webdriver.support.ui import WebDriverWait\n",
    "from selenium.webdriver.support import expected_conditions as EC\n",
    "from bs4 import BeautifulSoup\n",
    "import pandas as pd\n",
    "import time\n",
    "\n",
    "# Predefined Nifty50 stock symbols (can be updated if needed)\n",
    "nifty50_symbols = [\n",
    "    \"RELIANCE\", \"TCS\", \"INFY\", \"HDFCBANK\", \"HINDUNILVR\", \"ICICIBANK\", \"KOTAKBANK\", \n",
    "    \"ITC\", \"LT\", \"SBIN\", \"BAJFINANCE\", \"BHARTIARTL\", \"ASIANPAINT\", \"AXISBANK\", \n",
    "    \"MARUTI\", \"SUNPHARMA\", \"ULTRACEMCO\", \"WIPRO\", \"HCLTECH\", \"POWERGRID\"\n",
    "]\n",
    "\n",
    "# Function to set up Selenium WebDriver\n",
    "def setup_driver():\n",
    "    service = Service(r\"D:\\Downloads\\chromedriver-win64\\chromedriver-win64\\chromedriver.exe\")  # Replace with your ChromeDriver path\n",
    "    options = webdriver.ChromeOptions()\n",
    "    options.add_argument(\"--headless\")  # Run headless\n",
    "    options.add_argument(\"--no-sandbox\")\n",
    "    options.add_argument(\"--disable-dev-shm-usage\")\n",
    "    driver = webdriver.Chrome(service=service, options=options)\n",
    "    return driver\n",
    "\n",
    "# Function to scrape data for a single stock from Screener.in\n",
    "def scrape_stock_data(driver, symbol):\n",
    "    stock_url = f\"https://www.screener.in/company/{symbol}/\"\n",
    "    driver.get(stock_url)\n",
    "    time.sleep(2)  # Wait for page to load\n",
    "\n",
    "    soup = BeautifulSoup(driver.page_source, \"html.parser\")\n",
    "    data = {\"Symbol\": symbol}\n",
    "\n",
    "    # Extract data fields\n",
    "    try:\n",
    "        data[\"PE\"] = soup.find(\"span\", string=\"P/E\").find_next(\"span\").text.strip()\n",
    "        data[\"EPS\"] = soup.find(\"span\", string=\"EPS\").find_next(\"span\").text.strip()\n",
    "        data[\"52 Week High/Low\"] = soup.find(\"span\", string=\"52 Week High/Low\").find_next(\"span\").text.strip()\n",
    "        data[\"Market Cap\"] = soup.find(\"span\", string=\"Market Cap\").find_next(\"span\").text.strip()\n",
    "        data[\"LTP\"] = soup.find(\"span\", string=\"Current Price\").find_next(\"span\").text.strip()\n",
    "    except AttributeError:\n",
    "        # Handle missing data\n",
    "        data[\"PE\"] = data[\"EPS\"] = data[\"52 Week High/Low\"] = data[\"Market Cap\"] = data[\"LTP\"] = None\n",
    "\n",
    "    return data\n",
    "\n",
    "# Main function to scrape data for all Nifty50 stocks\n",
    "def scrape_nifty50_screener():\n",
    "    driver = setup_driver()\n",
    "    all_stock_data = []\n",
    "    \n",
    "    try:\n",
    "        for symbol in nifty50_symbols:\n",
    "            print(f\"Scraping data for: {symbol}\")\n",
    "            stock_data = scrape_stock_data(driver, symbol)\n",
    "            all_stock_data.append(stock_data)\n",
    "    finally:\n",
    "        driver.quit()\n",
    "    \n",
    "    # Convert to DataFrame\n",
    "    df = pd.DataFrame(all_stock_data)\n",
    "    return df\n",
    "\n",
    "# Execute and display the DataFrame\n",
    "nifty50_df = scrape_nifty50_screener()\n",
    "print(nifty50_df)"
   ]
  },
  {
   "cell_type": "code",
   "execution_count": 8,
   "id": "14dc525b-6134-4ff8-a299-003c68ec2f83",
   "metadata": {},
   "outputs": [
    {
     "name": "stdout",
     "output_type": "stream",
     "text": [
      "Scraping data for: RELIANCE\n"
     ]
    },
    {
     "name": "stderr",
     "output_type": "stream",
     "text": [
      "$RELIANCE: possibly delisted; no price data found  (period=5y) (Yahoo error = \"No data found, symbol may be delisted\")\n"
     ]
    },
    {
     "name": "stdout",
     "output_type": "stream",
     "text": [
      "Scraping data for: TCS\n",
      "Scraping data for: INFY\n",
      "Scraping data for: HDFCBANK\n"
     ]
    },
    {
     "name": "stderr",
     "output_type": "stream",
     "text": [
      "$HDFCBANK: possibly delisted; no price data found  (period=5y) (Yahoo error = \"No data found, symbol may be delisted\")\n"
     ]
    },
    {
     "name": "stdout",
     "output_type": "stream",
     "text": [
      "Scraping data for: HINDUNILVR\n"
     ]
    },
    {
     "name": "stderr",
     "output_type": "stream",
     "text": [
      "$HINDUNILVR: possibly delisted; no price data found  (period=5y) (Yahoo error = \"No data found, symbol may be delisted\")\n"
     ]
    },
    {
     "name": "stdout",
     "output_type": "stream",
     "text": [
      "Scraping data for: ICICIBANK\n"
     ]
    },
    {
     "name": "stderr",
     "output_type": "stream",
     "text": [
      "$ICICIBANK: possibly delisted; no price data found  (period=5y) (Yahoo error = \"No data found, symbol may be delisted\")\n"
     ]
    },
    {
     "name": "stdout",
     "output_type": "stream",
     "text": [
      "Scraping data for: KOTAKBANK\n"
     ]
    },
    {
     "name": "stderr",
     "output_type": "stream",
     "text": [
      "$KOTAKBANK: possibly delisted; no price data found  (period=5y) (Yahoo error = \"No data found, symbol may be delisted\")\n"
     ]
    },
    {
     "name": "stdout",
     "output_type": "stream",
     "text": [
      "Scraping data for: ITC\n"
     ]
    },
    {
     "name": "stderr",
     "output_type": "stream",
     "text": [
      "$LT: possibly delisted; no price data found  (period=5y)\n"
     ]
    },
    {
     "name": "stdout",
     "output_type": "stream",
     "text": [
      "Scraping data for: LT\n",
      "Scraping data for: SBIN\n"
     ]
    },
    {
     "name": "stderr",
     "output_type": "stream",
     "text": [
      "$SBIN: possibly delisted; no price data found  (period=5y) (Yahoo error = \"No data found, symbol may be delisted\")\n"
     ]
    },
    {
     "name": "stdout",
     "output_type": "stream",
     "text": [
      "Scraping data for: BAJFINANCE\n"
     ]
    },
    {
     "name": "stderr",
     "output_type": "stream",
     "text": [
      "$BAJFINANCE: possibly delisted; no price data found  (period=5y) (Yahoo error = \"No data found, symbol may be delisted\")\n"
     ]
    },
    {
     "name": "stdout",
     "output_type": "stream",
     "text": [
      "Scraping data for: BHARTIARTL\n"
     ]
    },
    {
     "name": "stderr",
     "output_type": "stream",
     "text": [
      "$BHARTIARTL: possibly delisted; no price data found  (period=5y) (Yahoo error = \"No data found, symbol may be delisted\")\n"
     ]
    },
    {
     "name": "stdout",
     "output_type": "stream",
     "text": [
      "Scraping data for: ASIANPAINT\n"
     ]
    },
    {
     "name": "stderr",
     "output_type": "stream",
     "text": [
      "$ASIANPAINT: possibly delisted; no price data found  (period=5y) (Yahoo error = \"No data found, symbol may be delisted\")\n"
     ]
    },
    {
     "name": "stdout",
     "output_type": "stream",
     "text": [
      "Scraping data for: AXISBANK\n"
     ]
    },
    {
     "name": "stderr",
     "output_type": "stream",
     "text": [
      "$AXISBANK: possibly delisted; no price data found  (period=5y) (Yahoo error = \"No data found, symbol may be delisted\")\n"
     ]
    },
    {
     "name": "stdout",
     "output_type": "stream",
     "text": [
      "Scraping data for: MARUTI\n"
     ]
    },
    {
     "name": "stderr",
     "output_type": "stream",
     "text": [
      "$MARUTI: possibly delisted; no price data found  (period=5y) (Yahoo error = \"No data found, symbol may be delisted\")\n"
     ]
    },
    {
     "name": "stdout",
     "output_type": "stream",
     "text": [
      "Scraping data for: SUNPHARMA\n"
     ]
    },
    {
     "name": "stderr",
     "output_type": "stream",
     "text": [
      "$SUNPHARMA: possibly delisted; no price data found  (period=5y) (Yahoo error = \"No data found, symbol may be delisted\")\n"
     ]
    },
    {
     "name": "stdout",
     "output_type": "stream",
     "text": [
      "Scraping data for: ULTRACEMCO\n"
     ]
    },
    {
     "name": "stderr",
     "output_type": "stream",
     "text": [
      "$ULTRACEMCO: possibly delisted; no price data found  (period=5y) (Yahoo error = \"No data found, symbol may be delisted\")\n"
     ]
    },
    {
     "name": "stdout",
     "output_type": "stream",
     "text": [
      "Scraping data for: WIPRO\n"
     ]
    },
    {
     "name": "stderr",
     "output_type": "stream",
     "text": [
      "$WIPRO: possibly delisted; no price data found  (period=5y) (Yahoo error = \"No data found, symbol may be delisted\")\n"
     ]
    },
    {
     "name": "stdout",
     "output_type": "stream",
     "text": [
      "Scraping data for: HCLTECH\n"
     ]
    },
    {
     "name": "stderr",
     "output_type": "stream",
     "text": [
      "$HCLTECH: possibly delisted; no price data found  (period=5y) (Yahoo error = \"No data found, symbol may be delisted\")\n"
     ]
    },
    {
     "name": "stdout",
     "output_type": "stream",
     "text": [
      "Scraping data for: POWERGRID\n"
     ]
    },
    {
     "name": "stderr",
     "output_type": "stream",
     "text": [
      "$POWERGRID: possibly delisted; no price data found  (period=5y) (Yahoo error = \"No data found, symbol may be delisted\")\n"
     ]
    },
    {
     "name": "stdout",
     "output_type": "stream",
     "text": [
      "        Symbol    PE   EPS 52 Wk High/Low Market Cap   LTP  6 Month Return  \\\n",
      "0     RELIANCE  None  None           None       None  None             NaN   \n",
      "1          TCS  None  None           None       None  None       -0.991500   \n",
      "2         INFY  None  None           None       None  None        1.613686   \n",
      "3     HDFCBANK  None  None           None       None  None             NaN   \n",
      "4   HINDUNILVR  None  None           None       None  None             NaN   \n",
      "5    ICICIBANK  None  None           None       None  None             NaN   \n",
      "6    KOTAKBANK  None  None           None       None  None             NaN   \n",
      "7          ITC  None  None           None       None  None       -0.914199   \n",
      "8           LT  None  None           None       None  None             NaN   \n",
      "9         SBIN  None  None           None       None  None             NaN   \n",
      "10  BAJFINANCE  None  None           None       None  None             NaN   \n",
      "11  BHARTIARTL  None  None           None       None  None             NaN   \n",
      "12  ASIANPAINT  None  None           None       None  None             NaN   \n",
      "13    AXISBANK  None  None           None       None  None             NaN   \n",
      "14      MARUTI  None  None           None       None  None             NaN   \n",
      "15   SUNPHARMA  None  None           None       None  None             NaN   \n",
      "16  ULTRACEMCO  None  None           None       None  None             NaN   \n",
      "17       WIPRO  None  None           None       None  None             NaN   \n",
      "18     HCLTECH  None  None           None       None  None             NaN   \n",
      "19   POWERGRID  None  None           None       None  None             NaN   \n",
      "\n",
      "    1 Year Return  5 Year Return  \n",
      "0             NaN            NaN  \n",
      "1       -0.991500      -0.991500  \n",
      "2        1.613686       1.613686  \n",
      "3             NaN            NaN  \n",
      "4             NaN            NaN  \n",
      "5             NaN            NaN  \n",
      "6             NaN            NaN  \n",
      "7       -0.914199      -0.914199  \n",
      "8             NaN            NaN  \n",
      "9             NaN            NaN  \n",
      "10            NaN            NaN  \n",
      "11            NaN            NaN  \n",
      "12            NaN            NaN  \n",
      "13            NaN            NaN  \n",
      "14            NaN            NaN  \n",
      "15            NaN            NaN  \n",
      "16            NaN            NaN  \n",
      "17            NaN            NaN  \n",
      "18            NaN            NaN  \n",
      "19            NaN            NaN  \n"
     ]
    }
   ],
   "source": [
    "import requests\n",
    "from bs4 import BeautifulSoup\n",
    "import pandas as pd\n",
    "import yfinance as yf\n",
    "\n",
    "# Function to scrape data from Screener.in\n",
    "def scrape_screener_data(symbol):\n",
    "    try:\n",
    "        url = f\"https://www.screener.in/company/{symbol}/\"\n",
    "        response = requests.get(url)\n",
    "        response.raise_for_status()  # Raise an exception for HTTP errors\n",
    "        soup = BeautifulSoup(response.content, \"html.parser\")\n",
    "\n",
    "        # Extracting data\n",
    "        data = {\"Symbol\": symbol}\n",
    "        \n",
    "        # P/E\n",
    "        pe_tag = soup.find(\"span\", string=\"P/E\")\n",
    "        data[\"PE\"] = pe_tag.find_next(\"span\").text.strip() if pe_tag else None\n",
    "        \n",
    "        # EPS\n",
    "        eps_tag = soup.find(\"span\", string=\"EPS\")\n",
    "        data[\"EPS\"] = eps_tag.find_next(\"span\").text.strip() if eps_tag else None\n",
    "        \n",
    "        # 52 Week High/Low\n",
    "        high_low_tag = soup.find(\"span\", string=\"52 Week High/Low\")\n",
    "        data[\"52 Wk High/Low\"] = high_low_tag.find_next(\"span\").text.strip() if high_low_tag else None\n",
    "        \n",
    "        # Market Cap\n",
    "        market_cap_tag = soup.find(\"span\", string=\"Market Cap\")\n",
    "        data[\"Market Cap\"] = market_cap_tag.find_next(\"span\").text.strip() if market_cap_tag else None\n",
    "        \n",
    "        # LTP\n",
    "        ltp_tag = soup.find(\"span\", string=\"Current Price\")\n",
    "        data[\"LTP\"] = ltp_tag.find_next(\"span\").text.strip() if ltp_tag else None\n",
    "        \n",
    "        return data\n",
    "    \n",
    "    except requests.RequestException as e:\n",
    "        print(f\"Error while loading data for {symbol}: {e}\")\n",
    "        return {\"Symbol\": symbol, \"PE\": None, \"EPS\": None, \"52 Wk High/Low\": None, \"Market Cap\": None, \"LTP\": None}\n",
    "\n",
    "# Function to get historical data using Yahoo Finance\n",
    "def get_historical_data(symbol, period=\"5y\"):\n",
    "    try:\n",
    "        stock = yf.Ticker(symbol)\n",
    "        hist = stock.history(period=period)\n",
    "        return hist['Close'] if 'Close' in hist else None\n",
    "    except Exception as e:\n",
    "        print(f\"Error fetching historical data for {symbol}: {e}\")\n",
    "        return None\n",
    "\n",
    "# Function to calculate returns\n",
    "def calculate_returns(prices):\n",
    "    if prices is not None and len(prices) > 0:\n",
    "        six_month_return = (prices.iloc[-1] / prices.iloc[0]) - 1\n",
    "        one_year_return = (prices.iloc[-1] / prices.iloc[0]) - 1\n",
    "        five_year_return = (prices.iloc[-1] / prices.iloc[0]) - 1\n",
    "        return {\n",
    "            \"6 Month Return\": six_month_return,\n",
    "            \"1 Year Return\": one_year_return,\n",
    "            \"5 Year Return\": five_year_return\n",
    "        }\n",
    "    return {\"6 Month Return\": None, \"1 Year Return\": None, \"5 Year Return\": None}\n",
    "\n",
    "# Function to scrape and get all data for Nifty50 stocks\n",
    "def scrape_nifty50_data():\n",
    "    nifty50_symbols = [\n",
    "        \"RELIANCE\", \"TCS\", \"INFY\", \"HDFCBANK\", \"HINDUNILVR\", \n",
    "        \"ICICIBANK\", \"KOTAKBANK\", \"ITC\", \"LT\", \"SBIN\", \n",
    "        \"BAJFINANCE\", \"BHARTIARTL\", \"ASIANPAINT\", \"AXISBANK\", \n",
    "        \"MARUTI\", \"SUNPHARMA\", \"ULTRACEMCO\", \"WIPRO\", \n",
    "        \"HCLTECH\", \"POWERGRID\"\n",
    "    ]\n",
    "    \n",
    "    all_stock_data = []\n",
    "    for symbol in nifty50_symbols:\n",
    "        print(f\"Scraping data for: {symbol}\")\n",
    "        \n",
    "        # Skip over delisted or unavailable symbols\n",
    "        ohlcv_data = get_historical_data(symbol, period=\"5y\")\n",
    "        if ohlcv_data is None:\n",
    "            print(f\"$ {symbol}: possibly delisted; no price data found  (period=5y) (Yahoo error = 'No data found, symbol may be delisted')\")\n",
    "            continue\n",
    "        \n",
    "        # Scraping data from Screener\n",
    "        screener_data = scrape_screener_data(symbol)\n",
    "        \n",
    "        # Calculate returns\n",
    "        returns = calculate_returns(ohlcv_data)\n",
    "        \n",
    "        # Merge returns with stock data\n",
    "        screener_data.update(returns)\n",
    "        \n",
    "        all_stock_data.append(screener_data)\n",
    "    \n",
    "    # Create a DataFrame\n",
    "    df = pd.DataFrame(all_stock_data)\n",
    "    return df\n",
    "\n",
    "# Execute and display the DataFrame\n",
    "nifty50_df = scrape_nifty50_data()\n",
    "print(nifty50_df)\n"
   ]
  },
  {
   "cell_type": "code",
   "execution_count": null,
   "id": "c4c08a6c-87e6-441b-9448-f8ace4736fce",
   "metadata": {},
   "outputs": [],
   "source": []
  }
 ],
 "metadata": {
  "kernelspec": {
   "display_name": "Python 3 (ipykernel)",
   "language": "python",
   "name": "python3"
  },
  "language_info": {
   "codemirror_mode": {
    "name": "ipython",
    "version": 3
   },
   "file_extension": ".py",
   "mimetype": "text/x-python",
   "name": "python",
   "nbconvert_exporter": "python",
   "pygments_lexer": "ipython3",
   "version": "3.12.7"
  }
 },
 "nbformat": 4,
 "nbformat_minor": 5
}
